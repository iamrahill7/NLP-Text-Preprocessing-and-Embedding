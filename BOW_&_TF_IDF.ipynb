{
 "cells": [
  {
   "cell_type": "markdown",
   "id": "dfa22f9b",
   "metadata": {},
   "source": [
    "# Bag Of Words"
   ]
  },
  {
   "cell_type": "markdown",
   "id": "58bb10b3",
   "metadata": {},
   "source": [
    "## **Step 1: Sample Sentences**\n",
    "We have two sentences:\n",
    "1. \"I love machine learning\"\n",
    "2. \"Machine learning is amazing\"\n",
    "\n",
    "## **Step 2: Vocabulary**\n",
    "The unique words in both sentences are:\n",
    "\n"
   ]
  },
  {
   "cell_type": "code",
   "execution_count": 1,
   "id": "d361a9be",
   "metadata": {},
   "outputs": [
    {
     "data": {
      "text/plain": [
       "['I', 'love', 'machine', 'learning', 'is', 'amazing']"
      ]
     },
     "execution_count": 1,
     "metadata": {},
     "output_type": "execute_result"
    }
   ],
   "source": [
    "['I', 'love', 'machine', 'learning', 'is', 'amazing']"
   ]
  },
  {
   "cell_type": "markdown",
   "id": "8b936f58",
   "metadata": {},
   "source": [
    "\n",
    "## **Step 3: Convert to Vector**\n",
    "We represent each sentence as a vector where each value indicates the frequency of a word.\n",
    "\n",
    "| Sentence                 | I | love | machine | learning | is | amazing |\n",
    "|-------------------------|---|------|---------|----------|----|---------|\n",
    "| \"I love machine learning\" | 1 | 1    | 1       | 1        | 0  | 0       |\n",
    "| \"Machine learning is amazing\" | 0 | 0    | 1       | 1        | 1  | 1       |\n",
    "\n",
    "## **Limitations of BoW**\n",
    "- **Ignores word meaning** (context is lost).\n",
    "- **Ignores word order** (e.g., \"not good\" and \"good\" may be treated similarly).\n",
    "- **Creates large sparse vectors** for big datasets.\n",
    "\n",
    "## **Alternatives to BoW**\n",
    "- **TF-IDF (Term Frequency-Inverse Document Frequency)** – Weighs words based on importance.\n",
    "- **Word Embeddings (e.g., Word2Vec, GloVe, BERT)** – Captures semantic meaning.\n",
    "\n",
    "\n"
   ]
  },
  {
   "cell_type": "code",
   "execution_count": 2,
   "id": "5e5ee8b5",
   "metadata": {},
   "outputs": [
    {
     "name": "stdout",
     "output_type": "stream",
     "text": [
      "Requirement already satisfied: numpy in c:\\users\\rahil\\miniconda3\\envs\\gan\\lib\\site-packages (1.26.4)\n"
     ]
    }
   ],
   "source": [
    "!pip install numpy\n"
   ]
  },
  {
   "cell_type": "code",
   "execution_count": 3,
   "id": "49d5c548",
   "metadata": {},
   "outputs": [
    {
     "name": "stderr",
     "output_type": "stream",
     "text": [
      "C:\\Users\\rahil\\miniconda3\\envs\\GAN\\lib\\site-packages\\pandas\\core\\arrays\\masked.py:60: UserWarning: Pandas requires version '1.3.6' or newer of 'bottleneck' (version '1.3.5' currently installed).\n",
      "  from pandas.core import (\n"
     ]
    }
   ],
   "source": [
    "from sklearn.feature_extraction.text import CountVectorizer"
   ]
  },
  {
   "cell_type": "code",
   "execution_count": 4,
   "id": "6ef1c61f",
   "metadata": {},
   "outputs": [],
   "source": [
    "# Sample sentences\n",
    "sentences = [\"I learn machine learning\", \"Machine learning is amazing\"]"
   ]
  },
  {
   "cell_type": "code",
   "execution_count": 5,
   "id": "49189753",
   "metadata": {},
   "outputs": [],
   "source": [
    "# Initialize CountVectorizer\n",
    "vectorizer = CountVectorizer()"
   ]
  },
  {
   "cell_type": "code",
   "execution_count": 6,
   "id": "535ad6b3",
   "metadata": {},
   "outputs": [],
   "source": [
    "# Fit and transform sentences into BoW representation\n",
    "X = vectorizer.fit_transform(sentences)"
   ]
  },
  {
   "cell_type": "code",
   "execution_count": 7,
   "id": "2be77e45",
   "metadata": {},
   "outputs": [
    {
     "name": "stdout",
     "output_type": "stream",
     "text": [
      "Feature Names (Vocabulary) ['amazing' 'is' 'learn' 'learning' 'machine']\n",
      "\n",
      "Bag of Words Representation:\n",
      " [[0 0 1 1 1]\n",
      " [1 1 0 1 1]]\n"
     ]
    }
   ],
   "source": [
    "print(\"Feature Names (Vocabulary)\", vectorizer.get_feature_names_out())\n",
    "print(\"\\nBag of Words Representation:\\n\", X.toarray())"
   ]
  },
  {
   "cell_type": "markdown",
   "id": "75e6e850",
   "metadata": {},
   "source": [
    "### Checking for Sparse Matrix"
   ]
  },
  {
   "cell_type": "code",
   "execution_count": 8,
   "id": "8d3c0efc",
   "metadata": {},
   "outputs": [],
   "source": [
    "# Larger corpus with more sentences\n",
    "corpus = [\n",
    "    \"Machine learning is fun\",\n",
    "    \"Deep learning is a subset of machine learning\",\n",
    "    \"Natural language processing is a part of AI\",\n",
    "    \"AI and machine learning are transforming the world\",\n",
    "    \"AI is the future\"\n",
    "]"
   ]
  },
  {
   "cell_type": "code",
   "execution_count": 9,
   "id": "82c649ad",
   "metadata": {},
   "outputs": [],
   "source": [
    "# Fit and transform the corpus into a sparse matrix\n",
    "X = vectorizer.fit_transform(corpus)"
   ]
  },
  {
   "cell_type": "code",
   "execution_count": 10,
   "id": "ad5cb79c",
   "metadata": {},
   "outputs": [
    {
     "name": "stdout",
     "output_type": "stream",
     "text": [
      "Sparse Matrix Representation:\n",
      " <Compressed Sparse Row sparse matrix of dtype 'int64'\n",
      "\twith 29 stored elements and shape (5, 18)>\n",
      "  Coords\tValues\n",
      "  (0, 9)\t1\n",
      "  (0, 8)\t1\n",
      "  (0, 6)\t1\n",
      "  (0, 4)\t1\n",
      "  (1, 9)\t1\n",
      "  (1, 8)\t2\n",
      "  (1, 6)\t1\n",
      "  (1, 3)\t1\n",
      "  (1, 14)\t1\n",
      "  (1, 11)\t1\n",
      "  (2, 6)\t1\n",
      "  (2, 11)\t1\n",
      "  (2, 10)\t1\n",
      "  (2, 7)\t1\n",
      "  (2, 13)\t1\n",
      "  (2, 12)\t1\n",
      "  (2, 0)\t1\n",
      "  (3, 9)\t1\n",
      "  (3, 8)\t1\n",
      "  (3, 0)\t1\n",
      "  (3, 1)\t1\n",
      "  (3, 2)\t1\n",
      "  (3, 16)\t1\n",
      "  (3, 15)\t1\n",
      "  (3, 17)\t1\n",
      "  (4, 6)\t1\n",
      "  (4, 0)\t1\n",
      "  (4, 15)\t1\n",
      "  (4, 5)\t1\n"
     ]
    }
   ],
   "source": [
    "# Print sparse matrix representation\n",
    "print(\"Sparse Matrix Representation:\\n\", X)"
   ]
  },
  {
   "cell_type": "code",
   "execution_count": 11,
   "id": "cca54fcd",
   "metadata": {},
   "outputs": [
    {
     "name": "stdout",
     "output_type": "stream",
     "text": [
      "\n",
      "Reconstructed Dense Matrix:\n",
      " [[0 0 0 0 1 0 1 0 1 1 0 0 0 0 0 0 0 0]\n",
      " [0 0 0 1 0 0 1 0 2 1 0 1 0 0 1 0 0 0]\n",
      " [1 0 0 0 0 0 1 1 0 0 1 1 1 1 0 0 0 0]\n",
      " [1 1 1 0 0 0 0 0 1 1 0 0 0 0 0 1 1 1]\n",
      " [1 0 0 0 0 1 1 0 0 0 0 0 0 0 0 1 0 0]]\n"
     ]
    }
   ],
   "source": [
    "# Print dense representation for comparison\n",
    "print(\"\\nReconstructed Dense Matrix:\\n\", X.toarray())"
   ]
  },
  {
   "cell_type": "code",
   "execution_count": 12,
   "id": "9664c9f4",
   "metadata": {},
   "outputs": [
    {
     "name": "stdout",
     "output_type": "stream",
     "text": [
      "\n",
      "Is it a Sparse Matrix? True\n"
     ]
    }
   ],
   "source": [
    "# Check if the result is a sparse matrix\n",
    "from scipy.sparse import csr_matrix\n",
    "\n",
    "\n",
    "print(\"\\nIs it a Sparse Matrix?\", isinstance(X, csr_matrix))"
   ]
  },
  {
   "cell_type": "code",
   "execution_count": null,
   "id": "075de81e",
   "metadata": {},
   "outputs": [],
   "source": []
  },
  {
   "cell_type": "code",
   "execution_count": null,
   "id": "58e8317a",
   "metadata": {},
   "outputs": [],
   "source": []
  },
  {
   "cell_type": "code",
   "execution_count": null,
   "id": "6aa033db",
   "metadata": {},
   "outputs": [],
   "source": []
  },
  {
   "cell_type": "code",
   "execution_count": 16,
   "id": "8b133e5e",
   "metadata": {},
   "outputs": [],
   "source": [
    "corpus = [\n",
    "    \"Books are a gateway to knowledge, imagination, and history. They transport readers to different worlds, introduce new ideas, and expand perspectives.\",\n",
    "    \"Fiction books allow readers to experience adventure, romance, and mystery, while non-fiction books educate about science, history, and personal growth.\",\n",
    "    \"Classics like ‘Pride and Prejudice’ and ‘1984’ continue to inspire generations. Modern books explore contemporary issues and futuristic possibilities.\",\n",
    "    \"Libraries and bookstores offer endless choices, from biographies to fantasy novels. Reading helps improve vocabulary, critical thinking, and creativity.\",\n",
    "    \"Digital books and audiobooks have made reading more accessible, but many still prefer the feel of a physical book.\",\n",
    "    \"Some people collect rare books, while others enjoy bestsellers. Whether it’s a thrilling novel or an insightful self-help book, reading is a habit that enriches the mind.\",\n",
    "    \"Books preserve knowledge, document culture, and inspire new ideas, making them an essential part of human civilization.\"\n",
    "]"
   ]
  },
  {
   "cell_type": "code",
   "execution_count": 17,
   "id": "a7b6f939",
   "metadata": {},
   "outputs": [],
   "source": [
    "#vectorizer = CountVectorizer()\n",
    "X = vectorizer.fit_transform(corpus)"
   ]
  },
  {
   "cell_type": "code",
   "execution_count": 19,
   "id": "44c74104",
   "metadata": {},
   "outputs": [
    {
     "data": {
      "text/plain": [
       "{'books': 12,\n",
       " 'are': 7,\n",
       " 'gateway': 40,\n",
       " 'to': 100,\n",
       " 'knowledge': 58,\n",
       " 'imagination': 50,\n",
       " 'and': 6,\n",
       " 'history': 47,\n",
       " 'they': 97,\n",
       " 'transport': 101,\n",
       " 'readers': 87,\n",
       " 'different': 24,\n",
       " 'worlds': 105,\n",
       " 'introduce': 54,\n",
       " 'new': 68,\n",
       " 'ideas': 49,\n",
       " 'expand': 32,\n",
       " 'perspectives': 79,\n",
       " 'fiction': 37,\n",
       " 'allow': 4,\n",
       " 'experience': 33,\n",
       " 'adventure': 3,\n",
       " 'romance': 89,\n",
       " 'mystery': 67,\n",
       " 'while': 104,\n",
       " 'non': 69,\n",
       " 'educate': 27,\n",
       " 'about': 1,\n",
       " 'science': 90,\n",
       " 'personal': 78,\n",
       " 'growth': 42,\n",
       " 'classics': 17,\n",
       " 'like': 60,\n",
       " 'pride': 85,\n",
       " 'prejudice': 83,\n",
       " '1984': 0,\n",
       " 'continue': 20,\n",
       " 'inspire': 53,\n",
       " 'generations': 41,\n",
       " 'modern': 65,\n",
       " 'explore': 34,\n",
       " 'contemporary': 19,\n",
       " 'issues': 56,\n",
       " 'futuristic': 39,\n",
       " 'possibilities': 81,\n",
       " 'libraries': 59,\n",
       " 'bookstores': 13,\n",
       " 'offer': 73,\n",
       " 'endless': 28,\n",
       " 'choices': 15,\n",
       " 'from': 38,\n",
       " 'biographies': 10,\n",
       " 'fantasy': 35,\n",
       " 'novels': 71,\n",
       " 'reading': 88,\n",
       " 'helps': 46,\n",
       " 'improve': 51,\n",
       " 'vocabulary': 102,\n",
       " 'critical': 22,\n",
       " 'thinking': 98,\n",
       " 'creativity': 21,\n",
       " 'digital': 25,\n",
       " 'audiobooks': 8,\n",
       " 'have': 44,\n",
       " 'made': 61,\n",
       " 'more': 66,\n",
       " 'accessible': 2,\n",
       " 'but': 14,\n",
       " 'many': 63,\n",
       " 'still': 93,\n",
       " 'prefer': 82,\n",
       " 'the': 95,\n",
       " 'feel': 36,\n",
       " 'of': 72,\n",
       " 'physical': 80,\n",
       " 'book': 11,\n",
       " 'some': 92,\n",
       " 'people': 77,\n",
       " 'collect': 18,\n",
       " 'rare': 86,\n",
       " 'others': 75,\n",
       " 'enjoy': 29,\n",
       " 'bestsellers': 9,\n",
       " 'whether': 103,\n",
       " 'it': 57,\n",
       " 'thrilling': 99,\n",
       " 'novel': 70,\n",
       " 'or': 74,\n",
       " 'an': 5,\n",
       " 'insightful': 52,\n",
       " 'self': 91,\n",
       " 'help': 45,\n",
       " 'is': 55,\n",
       " 'habit': 43,\n",
       " 'that': 94,\n",
       " 'enriches': 30,\n",
       " 'mind': 64,\n",
       " 'preserve': 84,\n",
       " 'document': 26,\n",
       " 'culture': 23,\n",
       " 'making': 62,\n",
       " 'them': 96,\n",
       " 'essential': 31,\n",
       " 'part': 76,\n",
       " 'human': 48,\n",
       " 'civilization': 16}"
      ]
     },
     "execution_count": 19,
     "metadata": {},
     "output_type": "execute_result"
    }
   ],
   "source": [
    "vectorizer.vocabulary_"
   ]
  },
  {
   "cell_type": "code",
   "execution_count": null,
   "id": "09aed4d7",
   "metadata": {},
   "outputs": [],
   "source": []
  },
  {
   "cell_type": "markdown",
   "id": "dafaf567",
   "metadata": {},
   "source": [
    "### Using CV with trigrams"
   ]
  },
  {
   "cell_type": "code",
   "execution_count": 20,
   "id": "2ae24add",
   "metadata": {},
   "outputs": [],
   "source": [
    "cv = CountVectorizer(binary=True, ngram_range=(3,3))"
   ]
  },
  {
   "cell_type": "code",
   "execution_count": 22,
   "id": "424d687c",
   "metadata": {},
   "outputs": [],
   "source": [
    "X = cv.fit_transform(corpus)"
   ]
  },
  {
   "cell_type": "code",
   "execution_count": 23,
   "id": "6215e975",
   "metadata": {},
   "outputs": [
    {
     "data": {
      "text/plain": [
       "{'books are gateway': 24,\n",
       " 'are gateway to': 17,\n",
       " 'gateway to knowledge': 53,\n",
       " 'to knowledge imagination': 119,\n",
       " 'knowledge imagination and': 73,\n",
       " 'imagination and history': 63,\n",
       " 'and history they': 12,\n",
       " 'history they transport': 60,\n",
       " 'they transport readers': 112,\n",
       " 'transport readers to': 120,\n",
       " 'readers to different': 99,\n",
       " 'to different worlds': 115,\n",
       " 'different worlds introduce': 38,\n",
       " 'worlds introduce new': 125,\n",
       " 'introduce new ideas': 68,\n",
       " 'new ideas and': 82,\n",
       " 'ideas and expand': 61,\n",
       " 'and expand perspectives': 10,\n",
       " 'fiction books allow': 50,\n",
       " 'books allow readers': 22,\n",
       " 'allow readers to': 4,\n",
       " 'readers to experience': 100,\n",
       " 'to experience adventure': 116,\n",
       " 'experience adventure romance': 46,\n",
       " 'adventure romance and': 3,\n",
       " 'romance and mystery': 104,\n",
       " 'and mystery while': 14,\n",
       " 'mystery while non': 81,\n",
       " 'while non fiction': 123,\n",
       " 'non fiction books': 84,\n",
       " 'fiction books educate': 51,\n",
       " 'books educate about': 25,\n",
       " 'educate about science': 41,\n",
       " 'about science history': 1,\n",
       " 'science history and': 105,\n",
       " 'history and personal': 59,\n",
       " 'and personal growth': 15,\n",
       " 'classics like pride': 32,\n",
       " 'like pride and': 75,\n",
       " 'pride and prejudice': 97,\n",
       " 'and prejudice and': 16,\n",
       " 'prejudice and 1984': 95,\n",
       " 'and 1984 continue': 7,\n",
       " '1984 continue to': 0,\n",
       " 'continue to inspire': 35,\n",
       " 'to inspire generations': 118,\n",
       " 'inspire generations modern': 66,\n",
       " 'generations modern books': 54,\n",
       " 'modern books explore': 79,\n",
       " 'books explore contemporary': 26,\n",
       " 'explore contemporary issues': 47,\n",
       " 'contemporary issues and': 34,\n",
       " 'issues and futuristic': 70,\n",
       " 'and futuristic possibilities': 11,\n",
       " 'libraries and bookstores': 74,\n",
       " 'and bookstores offer': 9,\n",
       " 'bookstores offer endless': 29,\n",
       " 'offer endless choices': 89,\n",
       " 'endless choices from': 42,\n",
       " 'choices from biographies': 31,\n",
       " 'from biographies to': 52,\n",
       " 'biographies to fantasy': 20,\n",
       " 'to fantasy novels': 117,\n",
       " 'fantasy novels reading': 48,\n",
       " 'novels reading helps': 86,\n",
       " 'reading helps improve': 101,\n",
       " 'helps improve vocabulary': 58,\n",
       " 'improve vocabulary critical': 64,\n",
       " 'vocabulary critical thinking': 121,\n",
       " 'critical thinking and': 36,\n",
       " 'thinking and creativity': 113,\n",
       " 'digital books and': 39,\n",
       " 'books and audiobooks': 23,\n",
       " 'and audiobooks have': 8,\n",
       " 'audiobooks have made': 18,\n",
       " 'have made reading': 56,\n",
       " 'made reading more': 76,\n",
       " 'reading more accessible': 103,\n",
       " 'more accessible but': 80,\n",
       " 'accessible but many': 2,\n",
       " 'but many still': 30,\n",
       " 'many still prefer': 78,\n",
       " 'still prefer the': 108,\n",
       " 'prefer the feel': 94,\n",
       " 'the feel of': 110,\n",
       " 'feel of physical': 49,\n",
       " 'of physical book': 88,\n",
       " 'some people collect': 107,\n",
       " 'people collect rare': 93,\n",
       " 'collect rare books': 33,\n",
       " 'rare books while': 98,\n",
       " 'books while others': 28,\n",
       " 'while others enjoy': 124,\n",
       " 'others enjoy bestsellers': 91,\n",
       " 'enjoy bestsellers whether': 43,\n",
       " 'bestsellers whether it': 19,\n",
       " 'whether it thrilling': 122,\n",
       " 'it thrilling novel': 71,\n",
       " 'thrilling novel or': 114,\n",
       " 'novel or an': 85,\n",
       " 'or an insightful': 90,\n",
       " 'an insightful self': 6,\n",
       " 'insightful self help': 65,\n",
       " 'self help book': 106,\n",
       " 'help book reading': 57,\n",
       " 'book reading is': 21,\n",
       " 'reading is habit': 102,\n",
       " 'is habit that': 69,\n",
       " 'habit that enriches': 55,\n",
       " 'that enriches the': 109,\n",
       " 'enriches the mind': 44,\n",
       " 'books preserve knowledge': 27,\n",
       " 'preserve knowledge document': 96,\n",
       " 'knowledge document culture': 72,\n",
       " 'document culture and': 40,\n",
       " 'culture and inspire': 37,\n",
       " 'and inspire new': 13,\n",
       " 'inspire new ideas': 67,\n",
       " 'new ideas making': 83,\n",
       " 'ideas making them': 62,\n",
       " 'making them an': 77,\n",
       " 'them an essential': 111,\n",
       " 'an essential part': 5,\n",
       " 'essential part of': 45,\n",
       " 'part of human': 92,\n",
       " 'of human civilization': 87}"
      ]
     },
     "execution_count": 23,
     "metadata": {},
     "output_type": "execute_result"
    }
   ],
   "source": [
    "cv.vocabulary_"
   ]
  },
  {
   "cell_type": "markdown",
   "id": "ce61e9f2",
   "metadata": {},
   "source": [
    "### Using Bigrams and Trigrams "
   ]
  },
  {
   "cell_type": "code",
   "execution_count": 25,
   "id": "b7127f17",
   "metadata": {},
   "outputs": [],
   "source": [
    "cv = CountVectorizer(binary=True, ngram_range=(2,3)) # Bigrams and Trigrams "
   ]
  },
  {
   "cell_type": "code",
   "execution_count": 26,
   "id": "3011680e",
   "metadata": {},
   "outputs": [],
   "source": [
    "X = cv.fit_transform(corpus)"
   ]
  },
  {
   "cell_type": "code",
   "execution_count": 27,
   "id": "5609262a",
   "metadata": {},
   "outputs": [
    {
     "data": {
      "text/plain": [
       "{'books are': 49,\n",
       " 'are gateway': 35,\n",
       " 'gateway to': 108,\n",
       " 'to knowledge': 242,\n",
       " 'knowledge imagination': 149,\n",
       " 'imagination and': 129,\n",
       " 'and history': 25,\n",
       " 'history they': 122,\n",
       " 'they transport': 228,\n",
       " 'transport readers': 244,\n",
       " 'readers to': 202,\n",
       " 'to different': 234,\n",
       " 'different worlds': 77,\n",
       " 'worlds introduce': 254,\n",
       " 'introduce new': 139,\n",
       " 'new ideas': 167,\n",
       " 'ideas and': 125,\n",
       " 'and expand': 21,\n",
       " 'expand perspectives': 93,\n",
       " 'books are gateway': 50,\n",
       " 'are gateway to': 36,\n",
       " 'gateway to knowledge': 109,\n",
       " 'to knowledge imagination': 243,\n",
       " 'knowledge imagination and': 150,\n",
       " 'imagination and history': 130,\n",
       " 'and history they': 26,\n",
       " 'history they transport': 123,\n",
       " 'they transport readers': 229,\n",
       " 'transport readers to': 245,\n",
       " 'readers to different': 203,\n",
       " 'to different worlds': 235,\n",
       " 'different worlds introduce': 78,\n",
       " 'worlds introduce new': 255,\n",
       " 'introduce new ideas': 140,\n",
       " 'new ideas and': 168,\n",
       " 'ideas and expand': 126,\n",
       " 'and expand perspectives': 22,\n",
       " 'fiction books': 102,\n",
       " 'books allow': 45,\n",
       " 'allow readers': 8,\n",
       " 'to experience': 236,\n",
       " 'experience adventure': 94,\n",
       " 'adventure romance': 6,\n",
       " 'romance and': 211,\n",
       " 'and mystery': 29,\n",
       " 'mystery while': 165,\n",
       " 'while non': 250,\n",
       " 'non fiction': 170,\n",
       " 'books educate': 51,\n",
       " 'educate about': 83,\n",
       " 'about science': 2,\n",
       " 'science history': 213,\n",
       " 'history and': 120,\n",
       " 'and personal': 31,\n",
       " 'personal growth': 190,\n",
       " 'fiction books allow': 103,\n",
       " 'books allow readers': 46,\n",
       " 'allow readers to': 9,\n",
       " 'readers to experience': 204,\n",
       " 'to experience adventure': 237,\n",
       " 'experience adventure romance': 95,\n",
       " 'adventure romance and': 7,\n",
       " 'romance and mystery': 212,\n",
       " 'and mystery while': 30,\n",
       " 'mystery while non': 166,\n",
       " 'while non fiction': 251,\n",
       " 'non fiction books': 171,\n",
       " 'fiction books educate': 104,\n",
       " 'books educate about': 52,\n",
       " 'educate about science': 84,\n",
       " 'about science history': 3,\n",
       " 'science history and': 214,\n",
       " 'history and personal': 121,\n",
       " 'and personal growth': 32,\n",
       " 'classics like': 65,\n",
       " 'like pride': 153,\n",
       " 'pride and': 198,\n",
       " 'and prejudice': 33,\n",
       " 'prejudice and': 194,\n",
       " 'and 1984': 14,\n",
       " '1984 continue': 0,\n",
       " 'continue to': 71,\n",
       " 'to inspire': 240,\n",
       " 'inspire generations': 135,\n",
       " 'generations modern': 110,\n",
       " 'modern books': 161,\n",
       " 'books explore': 53,\n",
       " 'explore contemporary': 96,\n",
       " 'contemporary issues': 69,\n",
       " 'issues and': 143,\n",
       " 'and futuristic': 23,\n",
       " 'futuristic possibilities': 107,\n",
       " 'classics like pride': 66,\n",
       " 'like pride and': 154,\n",
       " 'pride and prejudice': 199,\n",
       " 'and prejudice and': 34,\n",
       " 'prejudice and 1984': 195,\n",
       " 'and 1984 continue': 15,\n",
       " '1984 continue to': 1,\n",
       " 'continue to inspire': 72,\n",
       " 'to inspire generations': 241,\n",
       " 'inspire generations modern': 136,\n",
       " 'generations modern books': 111,\n",
       " 'modern books explore': 162,\n",
       " 'books explore contemporary': 54,\n",
       " 'explore contemporary issues': 97,\n",
       " 'contemporary issues and': 70,\n",
       " 'issues and futuristic': 144,\n",
       " 'and futuristic possibilities': 24,\n",
       " 'libraries and': 151,\n",
       " 'and bookstores': 18,\n",
       " 'bookstores offer': 59,\n",
       " 'offer endless': 180,\n",
       " 'endless choices': 85,\n",
       " 'choices from': 63,\n",
       " 'from biographies': 105,\n",
       " 'biographies to': 41,\n",
       " 'to fantasy': 238,\n",
       " 'fantasy novels': 98,\n",
       " 'novels reading': 174,\n",
       " 'reading helps': 205,\n",
       " 'helps improve': 118,\n",
       " 'improve vocabulary': 131,\n",
       " 'vocabulary critical': 246,\n",
       " 'critical thinking': 73,\n",
       " 'thinking and': 230,\n",
       " 'and creativity': 20,\n",
       " 'libraries and bookstores': 152,\n",
       " 'and bookstores offer': 19,\n",
       " 'bookstores offer endless': 60,\n",
       " 'offer endless choices': 181,\n",
       " 'endless choices from': 86,\n",
       " 'choices from biographies': 64,\n",
       " 'from biographies to': 106,\n",
       " 'biographies to fantasy': 42,\n",
       " 'to fantasy novels': 239,\n",
       " 'fantasy novels reading': 99,\n",
       " 'novels reading helps': 175,\n",
       " 'reading helps improve': 206,\n",
       " 'helps improve vocabulary': 119,\n",
       " 'improve vocabulary critical': 132,\n",
       " 'vocabulary critical thinking': 247,\n",
       " 'critical thinking and': 74,\n",
       " 'thinking and creativity': 231,\n",
       " 'digital books': 79,\n",
       " 'books and': 47,\n",
       " 'and audiobooks': 16,\n",
       " 'audiobooks have': 37,\n",
       " 'have made': 114,\n",
       " 'made reading': 155,\n",
       " 'reading more': 209,\n",
       " 'more accessible': 163,\n",
       " 'accessible but': 4,\n",
       " 'but many': 61,\n",
       " 'many still': 159,\n",
       " 'still prefer': 219,\n",
       " 'prefer the': 192,\n",
       " 'the feel': 223,\n",
       " 'feel of': 100,\n",
       " 'of physical': 178,\n",
       " 'physical book': 191,\n",
       " 'digital books and': 80,\n",
       " 'books and audiobooks': 48,\n",
       " 'and audiobooks have': 17,\n",
       " 'audiobooks have made': 38,\n",
       " 'have made reading': 115,\n",
       " 'made reading more': 156,\n",
       " 'reading more accessible': 210,\n",
       " 'more accessible but': 164,\n",
       " 'accessible but many': 5,\n",
       " 'but many still': 62,\n",
       " 'many still prefer': 160,\n",
       " 'still prefer the': 220,\n",
       " 'prefer the feel': 193,\n",
       " 'the feel of': 224,\n",
       " 'feel of physical': 101,\n",
       " 'of physical book': 179,\n",
       " 'some people': 217,\n",
       " 'people collect': 188,\n",
       " 'collect rare': 67,\n",
       " 'rare books': 200,\n",
       " 'books while': 57,\n",
       " 'while others': 252,\n",
       " 'others enjoy': 184,\n",
       " 'enjoy bestsellers': 87,\n",
       " 'bestsellers whether': 39,\n",
       " 'whether it': 248,\n",
       " 'it thrilling': 145,\n",
       " 'thrilling novel': 232,\n",
       " 'novel or': 172,\n",
       " 'or an': 182,\n",
       " 'an insightful': 12,\n",
       " 'insightful self': 133,\n",
       " 'self help': 215,\n",
       " 'help book': 116,\n",
       " 'book reading': 43,\n",
       " 'reading is': 207,\n",
       " 'is habit': 141,\n",
       " 'habit that': 112,\n",
       " 'that enriches': 221,\n",
       " 'enriches the': 89,\n",
       " 'the mind': 225,\n",
       " 'some people collect': 218,\n",
       " 'people collect rare': 189,\n",
       " 'collect rare books': 68,\n",
       " 'rare books while': 201,\n",
       " 'books while others': 58,\n",
       " 'while others enjoy': 253,\n",
       " 'others enjoy bestsellers': 185,\n",
       " 'enjoy bestsellers whether': 88,\n",
       " 'bestsellers whether it': 40,\n",
       " 'whether it thrilling': 249,\n",
       " 'it thrilling novel': 146,\n",
       " 'thrilling novel or': 233,\n",
       " 'novel or an': 173,\n",
       " 'or an insightful': 183,\n",
       " 'an insightful self': 13,\n",
       " 'insightful self help': 134,\n",
       " 'self help book': 216,\n",
       " 'help book reading': 117,\n",
       " 'book reading is': 44,\n",
       " 'reading is habit': 208,\n",
       " 'is habit that': 142,\n",
       " 'habit that enriches': 113,\n",
       " 'that enriches the': 222,\n",
       " 'enriches the mind': 90,\n",
       " 'books preserve': 55,\n",
       " 'preserve knowledge': 196,\n",
       " 'knowledge document': 147,\n",
       " 'document culture': 81,\n",
       " 'culture and': 75,\n",
       " 'and inspire': 27,\n",
       " 'inspire new': 137,\n",
       " 'ideas making': 127,\n",
       " 'making them': 157,\n",
       " 'them an': 226,\n",
       " 'an essential': 10,\n",
       " 'essential part': 91,\n",
       " 'part of': 186,\n",
       " 'of human': 176,\n",
       " 'human civilization': 124,\n",
       " 'books preserve knowledge': 56,\n",
       " 'preserve knowledge document': 197,\n",
       " 'knowledge document culture': 148,\n",
       " 'document culture and': 82,\n",
       " 'culture and inspire': 76,\n",
       " 'and inspire new': 28,\n",
       " 'inspire new ideas': 138,\n",
       " 'new ideas making': 169,\n",
       " 'ideas making them': 128,\n",
       " 'making them an': 158,\n",
       " 'them an essential': 227,\n",
       " 'an essential part': 11,\n",
       " 'essential part of': 92,\n",
       " 'part of human': 187,\n",
       " 'of human civilization': 177}"
      ]
     },
     "execution_count": 27,
     "metadata": {},
     "output_type": "execute_result"
    }
   ],
   "source": [
    "cv.vocabulary_"
   ]
  },
  {
   "cell_type": "code",
   "execution_count": null,
   "id": "43ae9795",
   "metadata": {},
   "outputs": [],
   "source": []
  },
  {
   "cell_type": "markdown",
   "id": "b53a7055",
   "metadata": {},
   "source": [
    "### Now this is where the problem comes.. Sparse matrix"
   ]
  },
  {
   "cell_type": "code",
   "execution_count": 28,
   "id": "c6d6ecc4",
   "metadata": {},
   "outputs": [
    {
     "data": {
      "text/plain": [
       "'Books are a gateway to knowledge, imagination, and history. They transport readers to different worlds, introduce new ideas, and expand perspectives.'"
      ]
     },
     "execution_count": 28,
     "metadata": {},
     "output_type": "execute_result"
    }
   ],
   "source": [
    "corpus[0]"
   ]
  },
  {
   "cell_type": "code",
   "execution_count": 30,
   "id": "aac15551",
   "metadata": {},
   "outputs": [
    {
     "data": {
      "text/plain": [
       "array([[0, 0, 0, 0, 0, 0, 0, 0, 0, 0, 0, 0, 0, 0, 0, 0, 0, 0, 0, 0, 0, 1,\n",
       "        1, 0, 0, 1, 1, 0, 0, 0, 0, 0, 0, 0, 0, 1, 1, 0, 0, 0, 0, 0, 0, 0,\n",
       "        0, 0, 0, 0, 0, 1, 1, 0, 0, 0, 0, 0, 0, 0, 0, 0, 0, 0, 0, 0, 0, 0,\n",
       "        0, 0, 0, 0, 0, 0, 0, 0, 0, 0, 0, 1, 1, 0, 0, 0, 0, 0, 0, 0, 0, 0,\n",
       "        0, 0, 0, 0, 0, 1, 0, 0, 0, 0, 0, 0, 0, 0, 0, 0, 0, 0, 0, 0, 1, 1,\n",
       "        0, 0, 0, 0, 0, 0, 0, 0, 0, 0, 0, 0, 1, 1, 0, 1, 1, 0, 0, 1, 1, 0,\n",
       "        0, 0, 0, 0, 0, 0, 0, 1, 1, 0, 0, 0, 0, 0, 0, 0, 0, 1, 1, 0, 0, 0,\n",
       "        0, 0, 0, 0, 0, 0, 0, 0, 0, 0, 0, 0, 0, 1, 1, 0, 0, 0, 0, 0, 0, 0,\n",
       "        0, 0, 0, 0, 0, 0, 0, 0, 0, 0, 0, 0, 0, 0, 0, 0, 0, 0, 0, 0, 0, 0,\n",
       "        0, 0, 0, 0, 1, 1, 0, 0, 0, 0, 0, 0, 0, 0, 0, 0, 0, 0, 0, 0, 0, 0,\n",
       "        0, 0, 0, 0, 0, 0, 0, 0, 1, 1, 0, 0, 0, 0, 1, 1, 0, 0, 0, 0, 0, 0,\n",
       "        1, 1, 1, 1, 0, 0, 0, 0, 0, 0, 0, 0, 1, 1]], dtype=int64)"
      ]
     },
     "execution_count": 30,
     "metadata": {},
     "output_type": "execute_result"
    }
   ],
   "source": [
    "X[0].toarray()"
   ]
  },
  {
   "cell_type": "code",
   "execution_count": null,
   "id": "4e07b066",
   "metadata": {},
   "outputs": [],
   "source": []
  },
  {
   "cell_type": "markdown",
   "id": "1ac06695",
   "metadata": {},
   "source": [
    "# TF-IDF "
   ]
  },
  {
   "cell_type": "markdown",
   "id": "4d31ea53",
   "metadata": {},
   "source": [
    "* To evaluate how important a word is in a document relative to the entire corpus.\n",
    "\n",
    "* **Term Frequency (TF)** measures how often a word appears in a document (or sentence).\n",
    "* **Formula:**\n",
    "```\n",
    "\n",
    "    Term Frequency (TF) = (Number of repetitions of the word in the sentence) / (Total number of words in the sentence)\n",
    "\n",
    "```\n",
    "\n",
    "* **Inverse Document Frequency (IDF)** removes common words and increases importance of rare word\n",
    "* **Formula:**\n",
    "```\n",
    "\n",
    "    IDF = log( Total number of documents / Number of documents containing the word )\n",
    "\n",
    "```\n",
    "\n",
    "* Multiply **TF and IDF**\n",
    "* A **higher TF-IDF** means the word is important and unique in that document.\n",
    "* A **lower TF-IDF** means the word is common and less important."
   ]
  },
  {
   "cell_type": "code",
   "execution_count": 31,
   "id": "c624ea68",
   "metadata": {},
   "outputs": [],
   "source": [
    "from sklearn.feature_extraction.text import TfidfVectorizer"
   ]
  },
  {
   "cell_type": "code",
   "execution_count": 32,
   "id": "07528d36",
   "metadata": {},
   "outputs": [],
   "source": [
    "cv = TfidfVectorizer()"
   ]
  },
  {
   "cell_type": "code",
   "execution_count": 33,
   "id": "034e4058",
   "metadata": {},
   "outputs": [],
   "source": [
    "X = cv.fit_transform(corpus)"
   ]
  },
  {
   "cell_type": "code",
   "execution_count": 35,
   "id": "005a4642",
   "metadata": {},
   "outputs": [
    {
     "data": {
      "text/plain": [
       "'Books are a gateway to knowledge, imagination, and history. They transport readers to different worlds, introduce new ideas, and expand perspectives.'"
      ]
     },
     "execution_count": 35,
     "metadata": {},
     "output_type": "execute_result"
    }
   ],
   "source": [
    "corpus[0]"
   ]
  },
  {
   "cell_type": "code",
   "execution_count": 34,
   "id": "59ee35ed",
   "metadata": {},
   "outputs": [
    {
     "data": {
      "text/plain": [
       "array([[0.        , 0.        , 0.        , 0.        , 0.        ,\n",
       "        0.        , 0.23683366, 0.24928945, 0.        , 0.        ,\n",
       "        0.        , 0.        , 0.11841683, 0.        , 0.        ,\n",
       "        0.        , 0.        , 0.        , 0.        , 0.        ,\n",
       "        0.        , 0.        , 0.        , 0.        , 0.24928945,\n",
       "        0.        , 0.        , 0.        , 0.        , 0.        ,\n",
       "        0.        , 0.        , 0.24928945, 0.        , 0.        ,\n",
       "        0.        , 0.        , 0.        , 0.        , 0.        ,\n",
       "        0.24928945, 0.        , 0.        , 0.        , 0.        ,\n",
       "        0.        , 0.        , 0.20693165, 0.        , 0.20693165,\n",
       "        0.24928945, 0.        , 0.        , 0.        , 0.24928945,\n",
       "        0.        , 0.        , 0.        , 0.20693165, 0.        ,\n",
       "        0.        , 0.        , 0.        , 0.        , 0.        ,\n",
       "        0.        , 0.        , 0.        , 0.20693165, 0.        ,\n",
       "        0.        , 0.        , 0.        , 0.        , 0.        ,\n",
       "        0.        , 0.        , 0.        , 0.        , 0.24928945,\n",
       "        0.        , 0.        , 0.        , 0.        , 0.        ,\n",
       "        0.        , 0.        , 0.20693165, 0.        , 0.        ,\n",
       "        0.        , 0.        , 0.        , 0.        , 0.        ,\n",
       "        0.        , 0.        , 0.24928945, 0.        , 0.        ,\n",
       "        0.30713427, 0.24928945, 0.        , 0.        , 0.        ,\n",
       "        0.24928945]])"
      ]
     },
     "execution_count": 34,
     "metadata": {},
     "output_type": "execute_result"
    }
   ],
   "source": [
    "X[0].toarray()"
   ]
  },
  {
   "cell_type": "markdown",
   "id": "15ae991c",
   "metadata": {},
   "source": [
    "### Let's say I want to see the top features only"
   ]
  },
  {
   "cell_type": "code",
   "execution_count": 36,
   "id": "42899564",
   "metadata": {},
   "outputs": [],
   "source": [
    "cv = TfidfVectorizer(max_features=10)"
   ]
  },
  {
   "cell_type": "code",
   "execution_count": 37,
   "id": "641ad80e",
   "metadata": {},
   "outputs": [],
   "source": [
    "X = cv.fit_transform(corpus)"
   ]
  },
  {
   "cell_type": "code",
   "execution_count": 41,
   "id": "718cfe59",
   "metadata": {},
   "outputs": [
    {
     "data": {
      "text/plain": [
       "{'books': 2,\n",
       " 'to': 9,\n",
       " 'and': 0,\n",
       " 'history': 4,\n",
       " 'readers': 6,\n",
       " 'new': 5,\n",
       " 'fiction': 3,\n",
       " 'reading': 7,\n",
       " 'the': 8,\n",
       " 'book': 1}"
      ]
     },
     "execution_count": 41,
     "metadata": {},
     "output_type": "execute_result"
    }
   ],
   "source": [
    "# Top 10 important words\n",
    "cv.vocabulary_"
   ]
  },
  {
   "cell_type": "code",
   "execution_count": 38,
   "id": "a49252c8",
   "metadata": {},
   "outputs": [
    {
     "data": {
      "text/plain": [
       "'Books are a gateway to knowledge, imagination, and history. They transport readers to different worlds, introduce new ideas, and expand perspectives.'"
      ]
     },
     "execution_count": 38,
     "metadata": {},
     "output_type": "execute_result"
    }
   ],
   "source": [
    "corpus[0]"
   ]
  },
  {
   "cell_type": "code",
   "execution_count": 39,
   "id": "0276a433",
   "metadata": {},
   "outputs": [
    {
     "data": {
      "text/plain": [
       "array([[0.43760176, 0.        , 0.21880088, 0.        , 0.38235129,\n",
       "        0.38235129, 0.38235129, 0.        , 0.        , 0.56749745]])"
      ]
     },
     "execution_count": 39,
     "metadata": {},
     "output_type": "execute_result"
    }
   ],
   "source": [
    "X[0].toarray()"
   ]
  },
  {
   "cell_type": "code",
   "execution_count": null,
   "id": "cc95ed0b",
   "metadata": {},
   "outputs": [],
   "source": []
  }
 ],
 "metadata": {
  "kernelspec": {
   "display_name": "Python 3 (ipykernel)",
   "language": "python",
   "name": "python3"
  },
  "language_info": {
   "codemirror_mode": {
    "name": "ipython",
    "version": 3
   },
   "file_extension": ".py",
   "mimetype": "text/x-python",
   "name": "python",
   "nbconvert_exporter": "python",
   "pygments_lexer": "ipython3",
   "version": "3.10.12"
  }
 },
 "nbformat": 4,
 "nbformat_minor": 5
}
